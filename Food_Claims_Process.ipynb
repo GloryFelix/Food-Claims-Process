{
 "cells": [
  {
   "cell_type": "code",
   "execution_count": 1,
   "id": "25f30975",
   "metadata": {},
   "outputs": [],
   "source": [
    "# importing neccessary libraries\n",
    "\n",
    "import pandas as pd\n",
    "import numpy as np\n",
    "import matplotlib.pyplot as plt\n",
    "import seaborn as sns"
   ]
  },
  {
   "cell_type": "code",
   "execution_count": 2,
   "id": "d3230529",
   "metadata": {},
   "outputs": [],
   "source": [
    "# importing the csv file\n",
    "\n",
    "df = pd.read_csv(r'C:\\Workspace\\data\\food_claims_2212.csv')"
   ]
  },
  {
   "cell_type": "code",
   "execution_count": 3,
   "id": "b8e4cde7",
   "metadata": {},
   "outputs": [
    {
     "data": {
      "text/html": [
       "<div>\n",
       "<style scoped>\n",
       "    .dataframe tbody tr th:only-of-type {\n",
       "        vertical-align: middle;\n",
       "    }\n",
       "\n",
       "    .dataframe tbody tr th {\n",
       "        vertical-align: top;\n",
       "    }\n",
       "\n",
       "    .dataframe thead th {\n",
       "        text-align: right;\n",
       "    }\n",
       "</style>\n",
       "<table border=\"1\" class=\"dataframe\">\n",
       "  <thead>\n",
       "    <tr style=\"text-align: right;\">\n",
       "      <th></th>\n",
       "      <th>claim_id</th>\n",
       "      <th>time_to_close</th>\n",
       "      <th>claim_amount</th>\n",
       "      <th>amount_paid</th>\n",
       "      <th>location</th>\n",
       "      <th>individuals_on_claim</th>\n",
       "      <th>linked_cases</th>\n",
       "      <th>cause</th>\n",
       "    </tr>\n",
       "  </thead>\n",
       "  <tbody>\n",
       "    <tr>\n",
       "      <th>0</th>\n",
       "      <td>1</td>\n",
       "      <td>317</td>\n",
       "      <td>R$ 74474.55</td>\n",
       "      <td>51231.37</td>\n",
       "      <td>RECIFE</td>\n",
       "      <td>15</td>\n",
       "      <td>False</td>\n",
       "      <td>unknown</td>\n",
       "    </tr>\n",
       "    <tr>\n",
       "      <th>1</th>\n",
       "      <td>2</td>\n",
       "      <td>195</td>\n",
       "      <td>R$ 52137.83</td>\n",
       "      <td>42111.30</td>\n",
       "      <td>FORTALEZA</td>\n",
       "      <td>12</td>\n",
       "      <td>True</td>\n",
       "      <td>unknown</td>\n",
       "    </tr>\n",
       "    <tr>\n",
       "      <th>2</th>\n",
       "      <td>3</td>\n",
       "      <td>183</td>\n",
       "      <td>R$ 24447.2</td>\n",
       "      <td>23986.30</td>\n",
       "      <td>SAO LUIS</td>\n",
       "      <td>10</td>\n",
       "      <td>True</td>\n",
       "      <td>meat</td>\n",
       "    </tr>\n",
       "    <tr>\n",
       "      <th>3</th>\n",
       "      <td>4</td>\n",
       "      <td>186</td>\n",
       "      <td>R$ 29006.28</td>\n",
       "      <td>27942.72</td>\n",
       "      <td>FORTALEZA</td>\n",
       "      <td>11</td>\n",
       "      <td>False</td>\n",
       "      <td>meat</td>\n",
       "    </tr>\n",
       "    <tr>\n",
       "      <th>4</th>\n",
       "      <td>5</td>\n",
       "      <td>138</td>\n",
       "      <td>R$ 19520.6</td>\n",
       "      <td>16251.06</td>\n",
       "      <td>RECIFE</td>\n",
       "      <td>11</td>\n",
       "      <td>False</td>\n",
       "      <td>vegetable</td>\n",
       "    </tr>\n",
       "  </tbody>\n",
       "</table>\n",
       "</div>"
      ],
      "text/plain": [
       "   claim_id  time_to_close claim_amount  amount_paid   location  \\\n",
       "0         1            317  R$ 74474.55     51231.37     RECIFE   \n",
       "1         2            195  R$ 52137.83     42111.30  FORTALEZA   \n",
       "2         3            183   R$ 24447.2     23986.30   SAO LUIS   \n",
       "3         4            186  R$ 29006.28     27942.72  FORTALEZA   \n",
       "4         5            138   R$ 19520.6     16251.06     RECIFE   \n",
       "\n",
       "   individuals_on_claim linked_cases      cause  \n",
       "0                    15        False    unknown  \n",
       "1                    12         True    unknown  \n",
       "2                    10         True       meat  \n",
       "3                    11        False       meat  \n",
       "4                    11        False  vegetable  "
      ]
     },
     "execution_count": 3,
     "metadata": {},
     "output_type": "execute_result"
    }
   ],
   "source": [
    "# see the top 5 rows\n",
    "\n",
    "df.head()"
   ]
  },
  {
   "cell_type": "markdown",
   "id": "e26442ad",
   "metadata": {},
   "source": [
    "Task 1:\n",
    "For every column in the data:\n",
    "\n",
    "a. State whether the values match the description given in the table above.\n",
    "b. State the number of missing values in the column.\n",
    "c. Describe what you did to make values match the description if they did not\n",
    "match.\n",
    "\n",
    "**Claim ID:** The column matched the description. They are non-missing values. The values are unique. No changes were made in this column.\n",
    "\n",
    "**Time to Close:** The column matched the description given. They were non missing values. No changes were made in this column.\n",
    "\n",
    "**Claim Amount:** The column do not exactly matched the description given. They were non-null missing values. The data type is changed to the one given in the description. \n",
    "\n",
    "**Amount Paid:** They were 36 missing values in this column. The missing values were replaced with the median value of the column.\n",
    "\n",
    "**Location:** They were non-missing values. The column has four(4) that matches those in the description. They were non-missing values.No changes were made in this column.\n",
    "\n",
    "**Individuals on Claim:** The  column matched the description. They were non-missing values. No changes were made in this column.\n",
    " \n",
    "**Linked Cases:** They were 26 missing values which is replaced with the False value as described.          \n",
    "\n",
    "**Cause:** Non-missing values. The values in this column are not consistent(Meat,meat, unknown, vegetables and VEGETABLE), the \"Meat\" values are changed to \"meat\" and \"VEGETABLES\" to \"vegetable\".  "
   ]
  },
  {
   "cell_type": "code",
   "execution_count": 4,
   "id": "1a592046",
   "metadata": {},
   "outputs": [
    {
     "name": "stdout",
     "output_type": "stream",
     "text": [
      "<class 'pandas.core.frame.DataFrame'>\n",
      "RangeIndex: 2000 entries, 0 to 1999\n",
      "Data columns (total 8 columns):\n",
      " #   Column                Non-Null Count  Dtype  \n",
      "---  ------                --------------  -----  \n",
      " 0   claim_id              2000 non-null   int64  \n",
      " 1   time_to_close         2000 non-null   int64  \n",
      " 2   claim_amount          2000 non-null   object \n",
      " 3   amount_paid           1964 non-null   float64\n",
      " 4   location              2000 non-null   object \n",
      " 5   individuals_on_claim  2000 non-null   int64  \n",
      " 6   linked_cases          1974 non-null   object \n",
      " 7   cause                 2000 non-null   object \n",
      "dtypes: float64(1), int64(3), object(4)\n",
      "memory usage: 125.1+ KB\n"
     ]
    }
   ],
   "source": [
    "# see the information about the dataframe\n",
    "\n",
    "df.info()"
   ]
  },
  {
   "cell_type": "code",
   "execution_count": 5,
   "id": "730a840f",
   "metadata": {},
   "outputs": [
    {
     "data": {
      "text/plain": [
       "claim_id                2000\n",
       "time_to_close            256\n",
       "claim_amount            2000\n",
       "amount_paid             1963\n",
       "location                   4\n",
       "individuals_on_claim      15\n",
       "linked_cases               2\n",
       "cause                      5\n",
       "dtype: int64"
      ]
     },
     "execution_count": 5,
     "metadata": {},
     "output_type": "execute_result"
    }
   ],
   "source": [
    "# checking for how many unique values in each column.\n",
    "\n",
    "df.nunique()"
   ]
  },
  {
   "cell_type": "code",
   "execution_count": 6,
   "id": "2454ac4b",
   "metadata": {},
   "outputs": [
    {
     "data": {
      "text/html": [
       "<div>\n",
       "<style scoped>\n",
       "    .dataframe tbody tr th:only-of-type {\n",
       "        vertical-align: middle;\n",
       "    }\n",
       "\n",
       "    .dataframe tbody tr th {\n",
       "        vertical-align: top;\n",
       "    }\n",
       "\n",
       "    .dataframe thead th {\n",
       "        text-align: right;\n",
       "    }\n",
       "</style>\n",
       "<table border=\"1\" class=\"dataframe\">\n",
       "  <thead>\n",
       "    <tr style=\"text-align: right;\">\n",
       "      <th></th>\n",
       "      <th>claim_id</th>\n",
       "      <th>time_to_close</th>\n",
       "      <th>claim_amount</th>\n",
       "      <th>amount_paid</th>\n",
       "      <th>location</th>\n",
       "      <th>individuals_on_claim</th>\n",
       "      <th>linked_cases</th>\n",
       "      <th>cause</th>\n",
       "    </tr>\n",
       "  </thead>\n",
       "  <tbody>\n",
       "    <tr>\n",
       "      <th>count</th>\n",
       "      <td>2000.000000</td>\n",
       "      <td>2000.00000</td>\n",
       "      <td>2000</td>\n",
       "      <td>1964.000000</td>\n",
       "      <td>2000</td>\n",
       "      <td>2000.000000</td>\n",
       "      <td>1974</td>\n",
       "      <td>2000</td>\n",
       "    </tr>\n",
       "    <tr>\n",
       "      <th>unique</th>\n",
       "      <td>NaN</td>\n",
       "      <td>NaN</td>\n",
       "      <td>2000</td>\n",
       "      <td>NaN</td>\n",
       "      <td>4</td>\n",
       "      <td>NaN</td>\n",
       "      <td>2</td>\n",
       "      <td>5</td>\n",
       "    </tr>\n",
       "    <tr>\n",
       "      <th>top</th>\n",
       "      <td>NaN</td>\n",
       "      <td>NaN</td>\n",
       "      <td>R$ 74474.55</td>\n",
       "      <td>NaN</td>\n",
       "      <td>RECIFE</td>\n",
       "      <td>NaN</td>\n",
       "      <td>False</td>\n",
       "      <td>meat</td>\n",
       "    </tr>\n",
       "    <tr>\n",
       "      <th>freq</th>\n",
       "      <td>NaN</td>\n",
       "      <td>NaN</td>\n",
       "      <td>1</td>\n",
       "      <td>NaN</td>\n",
       "      <td>885</td>\n",
       "      <td>NaN</td>\n",
       "      <td>1493</td>\n",
       "      <td>943</td>\n",
       "    </tr>\n",
       "    <tr>\n",
       "      <th>mean</th>\n",
       "      <td>1000.500000</td>\n",
       "      <td>185.56800</td>\n",
       "      <td>NaN</td>\n",
       "      <td>21541.975183</td>\n",
       "      <td>NaN</td>\n",
       "      <td>8.049500</td>\n",
       "      <td>NaN</td>\n",
       "      <td>NaN</td>\n",
       "    </tr>\n",
       "    <tr>\n",
       "      <th>std</th>\n",
       "      <td>577.494589</td>\n",
       "      <td>49.16339</td>\n",
       "      <td>NaN</td>\n",
       "      <td>12530.156509</td>\n",
       "      <td>NaN</td>\n",
       "      <td>4.087347</td>\n",
       "      <td>NaN</td>\n",
       "      <td>NaN</td>\n",
       "    </tr>\n",
       "    <tr>\n",
       "      <th>min</th>\n",
       "      <td>1.000000</td>\n",
       "      <td>76.00000</td>\n",
       "      <td>NaN</td>\n",
       "      <td>1516.720000</td>\n",
       "      <td>NaN</td>\n",
       "      <td>1.000000</td>\n",
       "      <td>NaN</td>\n",
       "      <td>NaN</td>\n",
       "    </tr>\n",
       "    <tr>\n",
       "      <th>25%</th>\n",
       "      <td>500.750000</td>\n",
       "      <td>158.00000</td>\n",
       "      <td>NaN</td>\n",
       "      <td>10995.950000</td>\n",
       "      <td>NaN</td>\n",
       "      <td>4.000000</td>\n",
       "      <td>NaN</td>\n",
       "      <td>NaN</td>\n",
       "    </tr>\n",
       "    <tr>\n",
       "      <th>50%</th>\n",
       "      <td>1000.500000</td>\n",
       "      <td>179.00000</td>\n",
       "      <td>NaN</td>\n",
       "      <td>20105.700000</td>\n",
       "      <td>NaN</td>\n",
       "      <td>8.000000</td>\n",
       "      <td>NaN</td>\n",
       "      <td>NaN</td>\n",
       "    </tr>\n",
       "    <tr>\n",
       "      <th>75%</th>\n",
       "      <td>1500.250000</td>\n",
       "      <td>204.00000</td>\n",
       "      <td>NaN</td>\n",
       "      <td>30709.350000</td>\n",
       "      <td>NaN</td>\n",
       "      <td>12.000000</td>\n",
       "      <td>NaN</td>\n",
       "      <td>NaN</td>\n",
       "    </tr>\n",
       "    <tr>\n",
       "      <th>max</th>\n",
       "      <td>2000.000000</td>\n",
       "      <td>518.00000</td>\n",
       "      <td>NaN</td>\n",
       "      <td>52498.750000</td>\n",
       "      <td>NaN</td>\n",
       "      <td>15.000000</td>\n",
       "      <td>NaN</td>\n",
       "      <td>NaN</td>\n",
       "    </tr>\n",
       "  </tbody>\n",
       "</table>\n",
       "</div>"
      ],
      "text/plain": [
       "           claim_id  time_to_close claim_amount   amount_paid location  \\\n",
       "count   2000.000000     2000.00000         2000   1964.000000     2000   \n",
       "unique          NaN            NaN         2000           NaN        4   \n",
       "top             NaN            NaN  R$ 74474.55           NaN   RECIFE   \n",
       "freq            NaN            NaN            1           NaN      885   \n",
       "mean    1000.500000      185.56800          NaN  21541.975183      NaN   \n",
       "std      577.494589       49.16339          NaN  12530.156509      NaN   \n",
       "min        1.000000       76.00000          NaN   1516.720000      NaN   \n",
       "25%      500.750000      158.00000          NaN  10995.950000      NaN   \n",
       "50%     1000.500000      179.00000          NaN  20105.700000      NaN   \n",
       "75%     1500.250000      204.00000          NaN  30709.350000      NaN   \n",
       "max     2000.000000      518.00000          NaN  52498.750000      NaN   \n",
       "\n",
       "        individuals_on_claim linked_cases cause  \n",
       "count            2000.000000         1974  2000  \n",
       "unique                   NaN            2     5  \n",
       "top                      NaN        False  meat  \n",
       "freq                     NaN         1493   943  \n",
       "mean                8.049500          NaN   NaN  \n",
       "std                 4.087347          NaN   NaN  \n",
       "min                 1.000000          NaN   NaN  \n",
       "25%                 4.000000          NaN   NaN  \n",
       "50%                 8.000000          NaN   NaN  \n",
       "75%                12.000000          NaN   NaN  \n",
       "max                15.000000          NaN   NaN  "
      ]
     },
     "execution_count": 6,
     "metadata": {},
     "output_type": "execute_result"
    }
   ],
   "source": [
    "# summary statistics of each column\n",
    "\n",
    "df.describe(include='all')"
   ]
  },
  {
   "cell_type": "code",
   "execution_count": 7,
   "id": "54617655",
   "metadata": {},
   "outputs": [],
   "source": [
    "# Changing the claim amount to float\n",
    "df['claim_amount'] = df['claim_amount'].apply(lambda x: x.replace('R$','')).astype('float')"
   ]
  },
  {
   "cell_type": "code",
   "execution_count": 8,
   "id": "8fa6c225",
   "metadata": {},
   "outputs": [
    {
     "data": {
      "text/plain": [
       "0       74474.55\n",
       "1       52137.83\n",
       "2       24447.20\n",
       "3       29006.28\n",
       "4       19520.60\n",
       "          ...   \n",
       "1995    28982.30\n",
       "1996     5188.44\n",
       "1997    11975.85\n",
       "1998    23516.28\n",
       "1999     8051.40\n",
       "Name: claim_amount, Length: 2000, dtype: float64"
      ]
     },
     "execution_count": 8,
     "metadata": {},
     "output_type": "execute_result"
    }
   ],
   "source": [
    "df['claim_amount']"
   ]
  },
  {
   "cell_type": "code",
   "execution_count": 9,
   "id": "75238d27",
   "metadata": {},
   "outputs": [
    {
     "data": {
      "text/plain": [
       "claim_id                  int64\n",
       "time_to_close             int64\n",
       "claim_amount            float64\n",
       "amount_paid             float64\n",
       "location                 object\n",
       "individuals_on_claim      int64\n",
       "linked_cases             object\n",
       "cause                    object\n",
       "dtype: object"
      ]
     },
     "execution_count": 9,
     "metadata": {},
     "output_type": "execute_result"
    }
   ],
   "source": [
    "# confirming the datatypes\n",
    "df.dtypes"
   ]
  },
  {
   "cell_type": "code",
   "execution_count": 10,
   "id": "25db912e",
   "metadata": {},
   "outputs": [
    {
     "data": {
      "text/plain": [
       "36"
      ]
     },
     "execution_count": 10,
     "metadata": {},
     "output_type": "execute_result"
    }
   ],
   "source": [
    "# checking how many missing values are in amount paid\n",
    "\n",
    "df['amount_paid'].isna().sum()"
   ]
  },
  {
   "cell_type": "code",
   "execution_count": 11,
   "id": "0b47d92e",
   "metadata": {},
   "outputs": [],
   "source": [
    "# replacing the null values with the median\n",
    "\n",
    "df['amount_paid'] = df['amount_paid'].replace(0, np.median(df['amount_paid']))"
   ]
  },
  {
   "cell_type": "code",
   "execution_count": 12,
   "id": "2f8d2cc0",
   "metadata": {},
   "outputs": [
    {
     "data": {
      "text/plain": [
       "array(['RECIFE', 'FORTALEZA', 'SAO LUIS', 'NATAL'], dtype=object)"
      ]
     },
     "execution_count": 12,
     "metadata": {},
     "output_type": "execute_result"
    }
   ],
   "source": [
    "# checking the unique location\n",
    "\n",
    "df['location'].unique() "
   ]
  },
  {
   "cell_type": "code",
   "execution_count": 13,
   "id": "c2e55ce8",
   "metadata": {},
   "outputs": [
    {
     "data": {
      "text/plain": [
       "26"
      ]
     },
     "execution_count": 13,
     "metadata": {},
     "output_type": "execute_result"
    }
   ],
   "source": [
    "# checking how many values are missing in linked cases column\n",
    "\n",
    "df['linked_cases'].isna().sum()"
   ]
  },
  {
   "cell_type": "code",
   "execution_count": 14,
   "id": "5e9a388d",
   "metadata": {},
   "outputs": [],
   "source": [
    "# replacing misssing values by bool False as instructed in the description\n",
    "\n",
    "df['linked_cases'] = df['linked_cases'].fillna(False)"
   ]
  },
  {
   "cell_type": "code",
   "execution_count": 15,
   "id": "f74264b8",
   "metadata": {},
   "outputs": [
    {
     "data": {
      "text/plain": [
       "False    1519\n",
       "True      481\n",
       "Name: linked_cases, dtype: int64"
      ]
     },
     "execution_count": 15,
     "metadata": {},
     "output_type": "execute_result"
    }
   ],
   "source": [
    "df['linked_cases'].value_counts()"
   ]
  },
  {
   "cell_type": "code",
   "execution_count": 16,
   "id": "e0997cc2",
   "metadata": {},
   "outputs": [
    {
     "data": {
      "text/plain": [
       "array(['unknown', 'meat', 'vegetable', ' Meat', 'VEGETABLES'],\n",
       "      dtype=object)"
      ]
     },
     "execution_count": 16,
     "metadata": {},
     "output_type": "execute_result"
    }
   ],
   "source": [
    "# check the unique values in cause column\n",
    "\n",
    "df['cause'].unique()"
   ]
  },
  {
   "cell_type": "code",
   "execution_count": 17,
   "id": "b3c20a93",
   "metadata": {},
   "outputs": [],
   "source": [
    "# Replacing \"VEGETABLES\" with “vegetable” and \" Meat\" with “meat”. “unknown” remain same\n",
    "\n",
    "df['cause'] = df['cause'].replace(' Meat', 'meat')\n",
    "df['cause'] = df['cause'].replace('VEGETABLES', 'vegetable')"
   ]
  },
  {
   "cell_type": "code",
   "execution_count": 18,
   "id": "ae03a52f",
   "metadata": {},
   "outputs": [
    {
     "data": {
      "text/plain": [
       "array(['unknown', 'meat', 'vegetable'], dtype=object)"
      ]
     },
     "execution_count": 18,
     "metadata": {},
     "output_type": "execute_result"
    }
   ],
   "source": [
    "# confirming the unique values\n",
    "\n",
    "df['cause'].unique()"
   ]
  },
  {
   "cell_type": "markdown",
   "id": "efae8d9f",
   "metadata": {},
   "source": [
    "Task 2:\n",
    "Create a visualization that shows the number of claims in each location. Use the visualization to:\n",
    "A. State which category of the variable location has the most observations\n",
    "B. Explain whether the observations are balanced across categories of the variable location"
   ]
  },
  {
   "cell_type": "code",
   "execution_count": 19,
   "id": "553937f8",
   "metadata": {},
   "outputs": [
    {
     "data": {
      "image/png": "[encoded data removed]",
      "text/plain": [
       "<Figure size 640x480 with 1 Axes>"
      ]
     },
     "metadata": {},
     "output_type": "display_data"
    }
   ],
   "source": [
    "# plotting countplot\n",
    "\n",
    "sns.countplot(x='location', data=df, color='steelblue')\n",
    "sns.set_style(\"darkgrid\")\n",
    "plt.title('RECIFE has most Claims', style='italic')\n",
    "plt.suptitle('Number of Claims in Each Location', fontsize=20)\n",
    "plt.show()"
   ]
  },
  {
   "cell_type": "markdown",
   "id": "48d726a9",
   "metadata": {},
   "source": [
    "There are four Locations included in this data which are RECIFE, SAO LUIS,\n",
    "FORTALEZA and NATAL. The most common location is RECIFE, with SAO LUIS being second although with half the number\n",
    "of locations. The categories are unbalanced, most observations are in RECIFE . \n",
    "The legal team should focus on RECIFE location more as they have most claims."
   ]
  },
  {
   "cell_type": "markdown",
   "id": "38ef69d2",
   "metadata": {},
   "source": [
    "Task 3: Describe the distribution of time to close for all claims. Your answer must include a visualization that shows the distribution."
   ]
  },
  {
   "cell_type": "code",
   "execution_count": 20,
   "id": "f2642af3",
   "metadata": {},
   "outputs": [
    {
     "data": {
      "image/png": "[encoded data removed]",
      "text/plain": [
       "<Figure size 640x480 with 1 Axes>"
      ]
     },
     "metadata": {},
     "output_type": "display_data"
    }
   ],
   "source": [
    "# plotting histogram\n",
    "\n",
    "sns.histplot(data=df, x='time_to_close')\n",
    "plt.suptitle('Distribution of time to close', fontsize=20)\n",
    "plt.title('most claims are closed below 200 days')\n",
    "plt.show()"
   ]
  },
  {
   "cell_type": "markdown",
   "id": "552911fe",
   "metadata": {},
   "source": [
    "From the graph above, we cand deduct that most claims are closed in less than 200 days. The distribution of the time to close a claim is right skewed. Few claims are closed over 350days. The Legal team should focus on claims that took over 200days and found out why is taking longer compared with those that were closed earlier"
   ]
  },
  {
   "cell_type": "markdown",
   "id": "6371e6c4",
   "metadata": {},
   "source": [
    "Task 4: Describe the relationship between time to close and location. Your answer must\n",
    "    include a visualization to demonstrate the relationship."
   ]
  },
  {
   "cell_type": "code",
   "execution_count": 21,
   "id": "246150f6",
   "metadata": {},
   "outputs": [
    {
     "data": {
      "image/png": "[encoded data removed]",
      "text/plain": [
       "<Figure size 640x480 with 1 Axes>"
      ]
     },
     "metadata": {},
     "output_type": "display_data"
    }
   ],
   "source": [
    "# plotting boxplot\n",
    "\n",
    "sns.boxplot(data=df, x='location', y='time_to_close')\n",
    "plt.suptitle('Time to Close VS Location', fontsize=20)\n",
    "plt.title('Do the locations have impact with the time to close?')\n",
    "plt.show()"
   ]
  },
  {
   "cell_type": "markdown",
   "id": "71830854",
   "metadata": {},
   "source": [
    "From the chart above, the team should focus on SAO LUIS with time_to_close of over 500 days. Also, further analysis\n",
    "should be carried out at SAO LUIS to know why it takes more days to claim compared to other location.\n",
    "Further analysis should be done to understand if location really does impact time to claim."
   ]
  },
  {
   "cell_type": "code",
   "execution_count": null,
   "id": "dfae8e3b",
   "metadata": {},
   "outputs": [],
   "source": []
  }
 ],
 "metadata": {
  "kernelspec": {
   "display_name": "onecampusenv",
   "language": "python",
   "name": "onecampusenv"
  },
  "language_info": {
   "codemirror_mode": {
    "name": "ipython",
    "version": 3
   },
   "file_extension": ".py",
   "mimetype": "text/x-python",
   "name": "python",
   "nbconvert_exporter": "python",
   "pygments_lexer": "ipython3",
   "version": "3.10.9"
  }
 },
 "nbformat": 4,
 "nbformat_minor": 5
}
